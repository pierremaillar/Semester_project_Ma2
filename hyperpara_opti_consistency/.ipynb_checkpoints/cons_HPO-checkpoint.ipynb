{
 "cells": [
  {
   "cell_type": "markdown",
   "id": "d965aeb1",
   "metadata": {},
   "source": [
    "# Project 2 :\n"
   ]
  },
  {
   "cell_type": "code",
   "execution_count": 3,
   "id": "cc847907",
   "metadata": {},
   "outputs": [
    {
     "name": "stdout",
     "output_type": "stream",
     "text": [
      "The autoreload extension is already loaded. To reload it, use:\n",
      "  %reload_ext autoreload\n"
     ]
    },
    {
     "data": {
      "text/plain": [
       "True"
      ]
     },
     "execution_count": 3,
     "metadata": {},
     "output_type": "execute_result"
    }
   ],
   "source": [
    "# Useful starting lines\n",
    "%matplotlib inline\n",
    "import numpy as np\n",
    "%load_ext autoreload\n",
    "%autoreload 2\n",
    "\n",
    "import pandas as pd\n",
    "\n",
    "from python_modules.create_batch import *\n",
    "from python_modules.datatreatment import *\n",
    "from python_modules.neuralnet import *\n",
    "from python_modules.visualisations import *\n",
    "from python_modules.nn_hyperpara_opti import *\n",
    "from python_modules.nn_hyperpara_opti_consistency import *\n",
    "torch.cuda.is_available()"
   ]
  },
  {
   "cell_type": "code",
   "execution_count": null,
   "id": "b428c35a",
   "metadata": {},
   "outputs": [],
   "source": [
    "#from Job_scores_BEA import *\n",
    "from Job_scores_EUK import *\n",
    "from Job_scores_BAC import *\n",
    "from Job_scores_task30 import *"
   ]
  },
  {
   "cell_type": "code",
   "execution_count": null,
   "id": "9b687615-592c-46b7-bb8f-f7398e909834",
   "metadata": {},
   "outputs": [],
   "source": []
  }
 ],
 "metadata": {
  "kernelspec": {
   "display_name": "Python 3 (ipykernel)",
   "language": "python",
   "name": "python3"
  },
  "language_info": {
   "codemirror_mode": {
    "name": "ipython",
    "version": 3
   },
   "file_extension": ".py",
   "mimetype": "text/x-python",
   "name": "python",
   "nbconvert_exporter": "python",
   "pygments_lexer": "ipython3",
   "version": "3.11.5"
  }
 },
 "nbformat": 4,
 "nbformat_minor": 5
}
